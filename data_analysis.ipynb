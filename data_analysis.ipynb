{
 "cells": [
  {
   "cell_type": "code",
   "execution_count": 60,
   "metadata": {},
   "outputs": [],
   "source": [
    "import pandas as pd\n",
    "import matplotlib.pyplot as plt"
   ]
  },
  {
   "cell_type": "markdown",
   "metadata": {},
   "source": [
    "# Group 1 Data Prep"
   ]
  },
  {
   "cell_type": "markdown",
   "metadata": {},
   "source": [
    "## Getting General Group 1 data"
   ]
  },
  {
   "cell_type": "code",
   "execution_count": 27,
   "metadata": {},
   "outputs": [],
   "source": [
    "\"\"\"\n",
    "Since this is general it is only reading the \"summarized\" file\n",
    "\"\"\"\n",
    "tst_g1_T0374 = pd.read_csv('data/test/G1_T0374_summary.csv')\n",
    "tst_g1_T0374L = pd.read_csv('data/test/G1_T0374L_summary.csv')\n",
    "tst_g1_T1912 = pd.read_csv('data/test/G1_T1912_summary.csv')\n",
    "tst_g1_T1995 = pd.read_csv('data/test/G1_T1995_summary.csv')\n",
    "tst_g1_T6020 = pd.read_csv('data/test/G1_T6020_summary.csv')\n",
    "tst_g1_T7394 = pd.read_csv('data/test/G1_T7394_summary.csv')"
   ]
  },
  {
   "cell_type": "code",
   "execution_count": 28,
   "metadata": {},
   "outputs": [],
   "source": [
    "\"\"\"\n",
    "    Detecting and getting rid of \"NaN\" values\n",
    "\"\"\"\n",
    "tst_g1_T0374 = tst_g1_T0374.dropna()\n",
    "tst_g1_T0374L = tst_g1_T0374L.dropna()\n",
    "tst_g1_T1912 = tst_g1_T1912.dropna()\n",
    "tst_g1_T1995 = tst_g1_T1995.dropna()\n",
    "tst_g1_T6020 = tst_g1_T6020.dropna()\n",
    "tst_g1_T7394 = tst_g1_T7394.dropna()"
   ]
  },
  {
   "cell_type": "code",
   "execution_count": 29,
   "metadata": {},
   "outputs": [],
   "source": [
    "\"\"\"\n",
    "    Merging tables to get master table for group 1\n",
    "\"\"\"\n",
    "g1_master_table = pd.concat([tst_g1_T0374, tst_g1_T0374L, tst_g1_T1912, tst_g1_T1995, tst_g1_T6020, tst_g1_T7394], ignore_index=True)\n",
    "\n",
    "# g1_master_table\n"
   ]
  },
  {
   "cell_type": "markdown",
   "metadata": {},
   "source": [
    "# Group 2 Data Prep"
   ]
  },
  {
   "cell_type": "markdown",
   "metadata": {},
   "source": [
    "## Getting General Group 2 data"
   ]
  },
  {
   "cell_type": "code",
   "execution_count": 30,
   "metadata": {},
   "outputs": [],
   "source": [
    "\"\"\"\n",
    "Since this is general it is only reading the \"summarized\" file\n",
    "\"\"\"\n",
    "\n",
    "tst_g2_T0860 = pd.read_csv('data/test/G2_T0860_summary.csv')\n",
    "tst_g2_T1448 = pd.read_csv('data/test/G2_T1448_summary.csv')\n",
    "tst_g2_T1656 = pd.read_csv('data/test/G2_T1656_summary.csv')\n",
    "tst_g2_T2508 = pd.read_csv('data/test/G2_T2508_summary.csv')\n",
    "tst_g2_T2509 = pd.read_csv('data/test/G2_T2509_summary.csv')\n",
    "tst_g2_T3380 = pd.read_csv('data/test/G2_T3380_summary.csv')"
   ]
  },
  {
   "cell_type": "code",
   "execution_count": 31,
   "metadata": {},
   "outputs": [],
   "source": [
    "\"\"\"\n",
    "    Detecting and getting rid of \"NaN\" values\n",
    "\"\"\"\n",
    "\n",
    "tst_g2_T0860 = tst_g2_T0860.dropna()\n",
    "tst_g2_T1448 = tst_g2_T1448.dropna()\n",
    "tst_g2_T1656 = tst_g2_T1656.dropna()\n",
    "tst_g2_T2508 = tst_g2_T2508.dropna()\n",
    "tst_g2_T2509 = tst_g2_T2509.dropna()\n",
    "tst_g2_T3380 = tst_g2_T3380.dropna()"
   ]
  },
  {
   "cell_type": "code",
   "execution_count": 32,
   "metadata": {},
   "outputs": [],
   "source": [
    "\"\"\"\n",
    "    Merging tables to get master table for group 2\n",
    "\"\"\"\n",
    "g2_master_table = pd.concat([tst_g2_T0860, tst_g2_T1448, tst_g2_T1656, tst_g2_T2508, tst_g2_T2509, tst_g2_T3380], ignore_index=True)"
   ]
  },
  {
   "cell_type": "code",
   "execution_count": null,
   "metadata": {},
   "outputs": [],
   "source": []
  },
  {
   "cell_type": "markdown",
   "metadata": {},
   "source": [
    "# Group 3 Data Prep"
   ]
  },
  {
   "cell_type": "markdown",
   "metadata": {},
   "source": [
    "## Getting General Group 3 data"
   ]
  },
  {
   "cell_type": "code",
   "execution_count": 33,
   "metadata": {},
   "outputs": [],
   "source": [
    "\"\"\"\n",
    "Since this is general it is only reading the \"summarized\" file\n",
    "\"\"\"\n",
    "\n",
    "tst_g3_T0801 = pd.read_csv('data/test/G3_T0801_summary.csv')\n",
    "tst_g3_T1829 = pd.read_csv('data/test/G3_T1829_summary.csv')\n",
    "tst_g3_T2485 = pd.read_csv('data/test/G3_T2485_summary.csv')\n",
    "tst_g3_T2677 = pd.read_csv('data/test/G3_T2677_summary.csv')\n",
    "tst_g3_T6156 = pd.read_csv('data/test/G3_T6156_summary.csv')\n",
    "tst_g3_T7503 = pd.read_csv('data/test/G3_T7503_summary.csv')"
   ]
  },
  {
   "cell_type": "code",
   "execution_count": 34,
   "metadata": {},
   "outputs": [],
   "source": [
    "\"\"\"\n",
    "    Detecting and getting rid of \"NaN\" values\n",
    "\"\"\"\n",
    "\n",
    "tst_g3_T0801 = tst_g3_T0801.dropna()\n",
    "tst_g3_T1829 = tst_g3_T1829.dropna()\n",
    "tst_g3_T2485 = tst_g3_T2485.dropna()\n",
    "tst_g3_T2677 = tst_g3_T2677.dropna()\n",
    "tst_g3_T6156 = tst_g3_T6156.dropna()\n",
    "tst_g3_T7503 = tst_g3_T7503.dropna()"
   ]
  },
  {
   "cell_type": "code",
   "execution_count": 35,
   "metadata": {},
   "outputs": [],
   "source": [
    "\"\"\"\n",
    "    Merging tables to get master table for group 3\n",
    "\"\"\"\n",
    "\n",
    "g3_master_table = pd.concat([tst_g3_T0801, tst_g3_T1829, tst_g3_T2485, tst_g3_T2677, tst_g3_T6156, tst_g3_T7503], ignore_index=True)"
   ]
  },
  {
   "cell_type": "markdown",
   "metadata": {},
   "source": [
    "# Group 4 Data Prep"
   ]
  },
  {
   "cell_type": "markdown",
   "metadata": {},
   "source": [
    "## Getting General Group 4 data"
   ]
  },
  {
   "cell_type": "code",
   "execution_count": 36,
   "metadata": {},
   "outputs": [],
   "source": [
    "\"\"\"\n",
    "Since this is general it is only reading the \"summarized\" file\n",
    "\"\"\"\n",
    "\n",
    "tst_g4_T2S0007 = pd.read_csv('data/test/G4_T2S0007_summary.csv')\n",
    "tst_g4_T1929 = pd.read_csv('data/test/G4_T1929_summary.csv')\n",
    "tst_g4_T1936 = pd.read_csv('data/test/G4_T1936_summary.csv')\n",
    "tst_g4_T3211 = pd.read_csv('data/test/G4_T3211_summary.csv')\n",
    "tst_g4_T3269 = pd.read_csv('data/test/G4_T3269_summary.csv')\n",
    "tst_g4_T3603 = pd.read_csv('data/test/G4_T3603_summary.csv')\n",
    "tst_g4_T3616 = pd.read_csv('data/test/G4_T3616_summary.csv')\n",
    "tst_g4_T4883 = pd.read_csv('data/test/G4_T4883_summary.csv')\n",
    "tst_g4_T5171 = pd.read_csv('data/test/G4_T5171_summary.csv')\n",
    "tst_g4_T5177 = pd.read_csv('data/test/G4_T5177_summary.csv')\n",
    "tst_g4_T6321 = pd.read_csv('data/test/G4_T6321_summary.csv')\n",
    "tst_g4_T7486 = pd.read_csv('data/test/G4_T7486_summary.csv')\n",
    "tst_g4_T7861 = pd.read_csv('data/test/G4_T7861_summary.csv')\n",
    "tst_g4_T8482 = pd.read_csv('data/test/G4_T8482_summary.csv')"
   ]
  },
  {
   "cell_type": "code",
   "execution_count": 37,
   "metadata": {},
   "outputs": [],
   "source": [
    "\"\"\"\n",
    "    Detecting and getting rid of \"NaN\" values\n",
    "\"\"\"\n",
    "\n",
    "tst_g4_T2S0007 = tst_g4_T2S0007.dropna()\n",
    "tst_g4_T1929 = tst_g4_T1929.dropna()\n",
    "tst_g4_T1936 = tst_g4_T1936.dropna()\n",
    "tst_g4_T3211 = tst_g4_T3211.dropna()\n",
    "tst_g4_T3269 = tst_g4_T3269.dropna()\n",
    "tst_g4_T3603 = tst_g4_T3603.dropna()\n",
    "tst_g4_T3616 = tst_g4_T3616.dropna()\n",
    "tst_g4_T4883 = tst_g4_T4883.dropna()\n",
    "tst_g4_T5171 = tst_g4_T5171.dropna()\n",
    "tst_g4_T5177 = tst_g4_T5177.dropna()\n",
    "tst_g4_T6321 = tst_g4_T6321.dropna()\n",
    "tst_g4_T7486 = tst_g4_T7486.dropna()\n",
    "tst_g4_T7861 = tst_g4_T7861.dropna()\n",
    "tst_g4_T8482 = tst_g4_T8482.dropna()"
   ]
  },
  {
   "cell_type": "code",
   "execution_count": 38,
   "metadata": {},
   "outputs": [],
   "source": [
    "\"\"\"\n",
    "    Merging tables to get master table for group 4\n",
    "\"\"\"\n",
    "\n",
    "g4_master_table = pd.concat([tst_g4_T2S0007, tst_g4_T1929, tst_g4_T1936, tst_g4_T3211, tst_g4_T3269, tst_g4_T3603, tst_g4_T3616, tst_g4_T4883, tst_g4_T5171, tst_g4_T5177, tst_g4_T6321, tst_g4_T7486, tst_g4_T7861, tst_g4_T8482], ignore_index=True)"
   ]
  },
  {
   "cell_type": "markdown",
   "metadata": {},
   "source": [
    "# Group 5 Data Prep"
   ]
  },
  {
   "cell_type": "markdown",
   "metadata": {},
   "source": [
    "## Getting General Group 5 data"
   ]
  },
  {
   "cell_type": "code",
   "execution_count": 39,
   "metadata": {},
   "outputs": [],
   "source": [
    "\"\"\"\n",
    "Since this is general it is only reading the \"summarized\" file\n",
    "\"\"\"\n",
    "\n",
    "tst_g5_T1791 = pd.read_csv('data/test/G5_T1791_summary.csv')\n",
    "tst_g5_T1791L = pd.read_csv('data/test/G5_T1791L_summary.csv')\n",
    "tst_g5_T2372 = pd.read_csv('data/test/G5_T2372_summary.csv')\n",
    "tst_g5_T6165 = pd.read_csv('data/test/G5_T6165_summary.csv')\n",
    "tst_g5_T6588 = pd.read_csv('data/test/G5_T6588_summary.csv')\n",
    "tst_g5_T6758 = pd.read_csv('data/test/G5_T6758_summary.csv')\n",
    "tst_g5_T7604 = pd.read_csv('data/test/G5_T7604_summary.csv')\n",
    "tst_g5_T8387 = pd.read_csv('data/test/G5_T8387_summary.csv')\n",
    "tst_g5_T12594 = pd.read_csv('data/test/G5_T12594_summary.csv')"
   ]
  },
  {
   "cell_type": "code",
   "execution_count": 40,
   "metadata": {},
   "outputs": [],
   "source": [
    "\"\"\"\n",
    "    Detecting and getting rid of \"NaN\" values\n",
    "\"\"\"\n",
    "\n",
    "tst_g5_T1791 = tst_g5_T1791.dropna()\n",
    "tst_g5_T1791L = tst_g5_T1791L.dropna()\n",
    "tst_g5_T2372 = tst_g5_T2372.dropna()\n",
    "tst_g5_T6165 = tst_g5_T6165.dropna()\n",
    "tst_g5_T6588 = tst_g5_T6588.dropna()\n",
    "tst_g5_T6758 = tst_g5_T6758.dropna()\n",
    "tst_g5_T7604 = tst_g5_T7604.dropna()\n",
    "tst_g5_T8387 = tst_g5_T8387.dropna()\n",
    "tst_g5_T12594 = tst_g5_T12594.dropna()"
   ]
  },
  {
   "cell_type": "code",
   "execution_count": 41,
   "metadata": {},
   "outputs": [],
   "source": [
    "\"\"\"\n",
    "    Merging tables to get master table for group 5\n",
    "\"\"\"\n",
    "\n",
    "g5_master_table = pd.concat([tst_g5_T1791, tst_g5_T1791L, tst_g5_T2372, tst_g5_T6165, tst_g5_T6588, tst_g5_T6758, tst_g5_T7604, tst_g5_T8387, tst_g5_T12594], ignore_index=True)"
   ]
  },
  {
   "cell_type": "code",
   "execution_count": 42,
   "metadata": {},
   "outputs": [
    {
     "data": {
      "text/html": [
       "<div>\n",
       "<style scoped>\n",
       "    .dataframe tbody tr th:only-of-type {\n",
       "        vertical-align: middle;\n",
       "    }\n",
       "\n",
       "    .dataframe tbody tr th {\n",
       "        vertical-align: top;\n",
       "    }\n",
       "\n",
       "    .dataframe thead th {\n",
       "        text-align: right;\n",
       "    }\n",
       "</style>\n",
       "<table border=\"1\" class=\"dataframe\">\n",
       "  <thead>\n",
       "    <tr style=\"text-align: right;\">\n",
       "      <th></th>\n",
       "      <th>group</th>\n",
       "      <th>image</th>\n",
       "      <th>mean_dist_nucleus</th>\n",
       "      <th>mean_dist_mito</th>\n",
       "      <th>n_pbody</th>\n",
       "    </tr>\n",
       "  </thead>\n",
       "  <tbody>\n",
       "    <tr>\n",
       "      <th>0</th>\n",
       "      <td>G5</td>\n",
       "      <td>W0035F0001T0006Z000C1N10.png</td>\n",
       "      <td>3.417323</td>\n",
       "      <td>3.417323</td>\n",
       "      <td>797</td>\n",
       "    </tr>\n",
       "    <tr>\n",
       "      <th>1</th>\n",
       "      <td>G5</td>\n",
       "      <td>W0035F0001T0006Z000C1N101.png</td>\n",
       "      <td>0.894006</td>\n",
       "      <td>0.894006</td>\n",
       "      <td>464</td>\n",
       "    </tr>\n",
       "    <tr>\n",
       "      <th>2</th>\n",
       "      <td>G5</td>\n",
       "      <td>W0035F0001T0006Z000C1N103.png</td>\n",
       "      <td>3.148669</td>\n",
       "      <td>3.148669</td>\n",
       "      <td>801</td>\n",
       "    </tr>\n",
       "    <tr>\n",
       "      <th>3</th>\n",
       "      <td>G5</td>\n",
       "      <td>W0035F0001T0006Z000C1N11.png</td>\n",
       "      <td>5.005417</td>\n",
       "      <td>5.005417</td>\n",
       "      <td>845</td>\n",
       "    </tr>\n",
       "    <tr>\n",
       "      <th>4</th>\n",
       "      <td>G5</td>\n",
       "      <td>W0035F0001T0006Z000C1N12.png</td>\n",
       "      <td>2.989783</td>\n",
       "      <td>2.989783</td>\n",
       "      <td>195</td>\n",
       "    </tr>\n",
       "    <tr>\n",
       "      <th>...</th>\n",
       "      <td>...</td>\n",
       "      <td>...</td>\n",
       "      <td>...</td>\n",
       "      <td>...</td>\n",
       "      <td>...</td>\n",
       "    </tr>\n",
       "    <tr>\n",
       "      <th>2377</th>\n",
       "      <td>G5</td>\n",
       "      <td>W0075F0003T0006Z000C1N66.png</td>\n",
       "      <td>5.382658</td>\n",
       "      <td>5.412401</td>\n",
       "      <td>61</td>\n",
       "    </tr>\n",
       "    <tr>\n",
       "      <th>2378</th>\n",
       "      <td>G5</td>\n",
       "      <td>W0075F0003T0006Z000C1N70.png</td>\n",
       "      <td>1.130623</td>\n",
       "      <td>1.147612</td>\n",
       "      <td>97</td>\n",
       "    </tr>\n",
       "    <tr>\n",
       "      <th>2379</th>\n",
       "      <td>G5</td>\n",
       "      <td>W0075F0003T0006Z000C1N72.png</td>\n",
       "      <td>0.286246</td>\n",
       "      <td>0.286246</td>\n",
       "      <td>58</td>\n",
       "    </tr>\n",
       "    <tr>\n",
       "      <th>2380</th>\n",
       "      <td>G5</td>\n",
       "      <td>W0075F0003T0006Z000C1N75.png</td>\n",
       "      <td>2.360944</td>\n",
       "      <td>7.097293</td>\n",
       "      <td>19</td>\n",
       "    </tr>\n",
       "    <tr>\n",
       "      <th>2381</th>\n",
       "      <td>G5</td>\n",
       "      <td>W0075F0003T0006Z000C1N9.png</td>\n",
       "      <td>0.469547</td>\n",
       "      <td>0.469547</td>\n",
       "      <td>66</td>\n",
       "    </tr>\n",
       "  </tbody>\n",
       "</table>\n",
       "<p>2382 rows × 5 columns</p>\n",
       "</div>"
      ],
      "text/plain": [
       "     group                          image  mean_dist_nucleus  mean_dist_mito  \\\n",
       "0       G5   W0035F0001T0006Z000C1N10.png           3.417323        3.417323   \n",
       "1       G5  W0035F0001T0006Z000C1N101.png           0.894006        0.894006   \n",
       "2       G5  W0035F0001T0006Z000C1N103.png           3.148669        3.148669   \n",
       "3       G5   W0035F0001T0006Z000C1N11.png           5.005417        5.005417   \n",
       "4       G5   W0035F0001T0006Z000C1N12.png           2.989783        2.989783   \n",
       "...    ...                            ...                ...             ...   \n",
       "2377    G5   W0075F0003T0006Z000C1N66.png           5.382658        5.412401   \n",
       "2378    G5   W0075F0003T0006Z000C1N70.png           1.130623        1.147612   \n",
       "2379    G5   W0075F0003T0006Z000C1N72.png           0.286246        0.286246   \n",
       "2380    G5   W0075F0003T0006Z000C1N75.png           2.360944        7.097293   \n",
       "2381    G5    W0075F0003T0006Z000C1N9.png           0.469547        0.469547   \n",
       "\n",
       "      n_pbody  \n",
       "0         797  \n",
       "1         464  \n",
       "2         801  \n",
       "3         845  \n",
       "4         195  \n",
       "...       ...  \n",
       "2377       61  \n",
       "2378       97  \n",
       "2379       58  \n",
       "2380       19  \n",
       "2381       66  \n",
       "\n",
       "[2382 rows x 5 columns]"
      ]
     },
     "execution_count": 42,
     "metadata": {},
     "output_type": "execute_result"
    }
   ],
   "source": [
    "g5_master_table\n"
   ]
  },
  {
   "cell_type": "markdown",
   "metadata": {},
   "source": [
    "# General Graphs"
   ]
  },
  {
   "cell_type": "code",
   "execution_count": 51,
   "metadata": {},
   "outputs": [
    {
     "data": {
      "text/html": [
       "<div>\n",
       "<style scoped>\n",
       "    .dataframe tbody tr th:only-of-type {\n",
       "        vertical-align: middle;\n",
       "    }\n",
       "\n",
       "    .dataframe tbody tr th {\n",
       "        vertical-align: top;\n",
       "    }\n",
       "\n",
       "    .dataframe thead th {\n",
       "        text-align: right;\n",
       "    }\n",
       "</style>\n",
       "<table border=\"1\" class=\"dataframe\">\n",
       "  <thead>\n",
       "    <tr style=\"text-align: right;\">\n",
       "      <th></th>\n",
       "      <th>Group</th>\n",
       "      <th>Mean_Distance_Nucleus</th>\n",
       "      <th>Mean_Distance_Mitochondria</th>\n",
       "    </tr>\n",
       "  </thead>\n",
       "  <tbody>\n",
       "    <tr>\n",
       "      <th>0</th>\n",
       "      <td>G1</td>\n",
       "      <td>16.753100</td>\n",
       "      <td>27.571116</td>\n",
       "    </tr>\n",
       "    <tr>\n",
       "      <th>1</th>\n",
       "      <td>G2</td>\n",
       "      <td>4.039241</td>\n",
       "      <td>8.911769</td>\n",
       "    </tr>\n",
       "    <tr>\n",
       "      <th>2</th>\n",
       "      <td>G3</td>\n",
       "      <td>19.314201</td>\n",
       "      <td>45.571512</td>\n",
       "    </tr>\n",
       "    <tr>\n",
       "      <th>3</th>\n",
       "      <td>G4</td>\n",
       "      <td>12.236454</td>\n",
       "      <td>14.419812</td>\n",
       "    </tr>\n",
       "    <tr>\n",
       "      <th>4</th>\n",
       "      <td>G5</td>\n",
       "      <td>1.445833</td>\n",
       "      <td>1.519131</td>\n",
       "    </tr>\n",
       "  </tbody>\n",
       "</table>\n",
       "</div>"
      ],
      "text/plain": [
       "  Group  Mean_Distance_Nucleus  Mean_Distance_Mitochondria\n",
       "0    G1              16.753100                   27.571116\n",
       "1    G2               4.039241                    8.911769\n",
       "2    G3              19.314201                   45.571512\n",
       "3    G4              12.236454                   14.419812\n",
       "4    G5               1.445833                    1.519131"
      ]
     },
     "execution_count": 51,
     "metadata": {},
     "output_type": "execute_result"
    }
   ],
   "source": [
    "'''\n",
    "    1- Creste a table/ dataframe to summarize all mean distances from nucleus and mitochondria for each group\n",
    "    2- Getting the mean distance from nucleus and for mitochondria for each master table \n",
    "    3- Adding those values to the summary table/ dataframe\n",
    "'''\n",
    "\n",
    "summary_data = {\n",
    "    'Group': ['G1', 'G2', 'G3', 'G4', 'G5'],\n",
    "    'Mean_Distance_Nucleus': [\n",
    "        g1_master_table['mean_dist_nucleus'].mean(),\n",
    "        g2_master_table['mean_dist_nucleus'].mean(),\n",
    "        g3_master_table['mean_dist_nucleus'].mean(),\n",
    "        g4_master_table['mean_dist_nucleus'].mean(),\n",
    "        g5_master_table['mean_dist_nucleus'].mean()\n",
    "    ],\n",
    "    'Mean_Distance_Mitochondria': [\n",
    "        g1_master_table['mean_dist_mito'].mean(),\n",
    "        g2_master_table['mean_dist_mito'].mean(),\n",
    "        g3_master_table['mean_dist_mito'].mean(),\n",
    "        g4_master_table['mean_dist_mito'].mean(),\n",
    "        g5_master_table['mean_dist_mito'].mean()\n",
    "    ]\n",
    "}\n",
    "\n",
    "summary_data = pd.DataFrame(summary_data)\n",
    "summary_data"
   ]
  },
  {
   "cell_type": "code",
   "execution_count": 57,
   "metadata": {},
   "outputs": [
    {
     "data": {
      "image/png": "[encoded data removed]",
      "text/plain": [
       "<Figure size 640x480 with 1 Axes>"
      ]
     },
     "metadata": {},
     "output_type": "display_data"
    }
   ],
   "source": [
    "\"\"\"\n",
    "    Plotting graphs to show difference in distance from nucleus and mitochondria for each group \n",
    "\"\"\"\n",
    "\n",
    "x = summary_data['Group']\n",
    "nucleus_means = summary_data['Mean_Distance_Nucleus']\n",
    "mito_means = summary_data['Mean_Distance_Mitochondria']\n",
    "x_indexes = range(len(x))\n",
    "width = 0.35\n",
    "plt.bar(x_indexes, nucleus_means, width=width, label='Nucleus', color='rosybrown')\n",
    "plt.bar([i + width for i in x_indexes], mito_means, width=width, label='Mitochondria', color='lightslategrey')\n",
    "plt.xlabel('Groups')\n",
    "plt.ylabel('Mean Distance')\n",
    "plt.title('Mean Distance from Nucleus and Mitochondria for Each Group')\n",
    "plt.xticks([i + width / 2 for i in x_indexes], x)\n",
    "plt.legend()\n",
    "plt.tight_layout()\n",
    "plt.show()"
   ]
  },
  {
   "cell_type": "code",
   "execution_count": 63,
   "metadata": {},
   "outputs": [
    {
     "name": "stderr",
     "output_type": "stream",
     "text": [
      "/var/folders/qw/jg34zg4s36s3q9b0cy00dw4m0000gn/T/ipykernel_19016/2022774602.py:4: MatplotlibDeprecationWarning: The 'labels' parameter of boxplot() has been renamed 'tick_labels' since Matplotlib 3.9; support for the old name will be dropped in 3.11.\n",
      "  plt.boxplot(dist_nucl, labels=[\"group 1\", \"group2\", \"group 3\", \"group 4\", \"group 5\"])\n"
     ]
    },
    {
     "data": {
      "image/png": "[encoded data removed]",
      "text/plain": [
       "<Figure size 500x500 with 1 Axes>"
      ]
     },
     "metadata": {},
     "output_type": "display_data"
    }
   ],
   "source": [
    "dist_nucl = [g1_master_table[\"mean_dist_nucleus\"],  g2_master_table[\"mean_dist_nucleus\"], g3_master_table[\"mean_dist_nucleus\"],g4_master_table[\"mean_dist_nucleus\"], g5_master_table[\"mean_dist_nucleus\"]]\n",
    "\n",
    "fig = plt.figure(figsize =(5,5))\n",
    "plt.boxplot(dist_nucl, labels=[\"group 1\", \"group2\", \"group 3\", \"group 4\", \"group 5\"])\n",
    "\n",
    "plt.show()"
   ]
  },
  {
   "cell_type": "code",
   "execution_count": 64,
   "metadata": {},
   "outputs": [
    {
     "name": "stderr",
     "output_type": "stream",
     "text": [
      "/var/folders/qw/jg34zg4s36s3q9b0cy00dw4m0000gn/T/ipykernel_19016/215303869.py:4: MatplotlibDeprecationWarning: The 'labels' parameter of boxplot() has been renamed 'tick_labels' since Matplotlib 3.9; support for the old name will be dropped in 3.11.\n",
      "  plt.boxplot(dist_mito, labels=[\"group 1\", \"group2\", \"group 3\", \"group 4\", \"group 5\"])\n"
     ]
    },
    {
     "data": {
      "image/png": "[encoded data removed]",
      "text/plain": [
       "<Figure size 500x500 with 1 Axes>"
      ]
     },
     "metadata": {},
     "output_type": "display_data"
    }
   ],
   "source": [
    "dist_mito = [g1_master_table[\"mean_dist_mito\"],  g2_master_table[\"mean_dist_mito\"], g3_master_table[\"mean_dist_mito\"],g4_master_table[\"mean_dist_mito\"], g5_master_table[\"mean_dist_nucleus\"]]\n",
    "\n",
    "fig = plt.figure(figsize =(5,5))\n",
    "plt.boxplot(dist_mito, labels=[\"group 1\", \"group2\", \"group 3\", \"group 4\", \"group 5\"])\n",
    "\n",
    "plt.show()"
   ]
  }
 ],
 "metadata": {
  "kernelspec": {
   "display_name": ".venv",
   "language": "python",
   "name": "python3"
  },
  "language_info": {
   "codemirror_mode": {
    "name": "ipython",
    "version": 3
   },
   "file_extension": ".py",
   "mimetype": "text/x-python",
   "name": "python",
   "nbconvert_exporter": "python",
   "pygments_lexer": "ipython3",
   "version": "3.13.7"
  }
 },
 "nbformat": 4,
 "nbformat_minor": 2
}
