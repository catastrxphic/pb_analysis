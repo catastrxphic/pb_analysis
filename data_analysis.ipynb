{
 "cells": [
  {
   "cell_type": "code",
   "execution_count": 2,
   "metadata": {},
   "outputs": [],
   "source": [
    "import pandas as pd"
   ]
  },
  {
   "cell_type": "markdown",
   "metadata": {},
   "source": [
    "# Group 1 Data Prep"
   ]
  },
  {
   "cell_type": "markdown",
   "metadata": {},
   "source": [
    "## Getting General Group 1 data"
   ]
  },
  {
   "cell_type": "code",
   "execution_count": 3,
   "metadata": {},
   "outputs": [],
   "source": [
    "\"\"\"\n",
    "Since this is general it is only reading the \"summarized\" file\n",
    "\"\"\"\n",
    "tst_g1_T0374 = pd.read_csv('data/test/G1_T0374_summary.csv')\n",
    "tst_g1_T0374L = pd.read_csv('data/test/G1_T0374L_summary.csv')\n",
    "tst_g1_T1912 = pd.read_csv('data/test/G1_T1912_summary.csv')\n",
    "tst_g1_T1995 = pd.read_csv('data/test/G1_T1995_summary.csv')\n",
    "tst_g1_T6020 = pd.read_csv('data/test/G1_T6020_summary.csv')\n",
    "tst_g1_T7394 = pd.read_csv('data/test/G1_T7394_summary.csv')"
   ]
  },
  {
   "cell_type": "code",
   "execution_count": 5,
   "metadata": {},
   "outputs": [],
   "source": [
    "\"\"\"\n",
    "    Detecting and getting rid of \"NaN\" values\n",
    "\"\"\"\n",
    "tst_g1_T0374 = tst_g1_T0374.dropna()\n",
    "tst_g1_T0374L = tst_g1_T0374L.dropna()\n",
    "tst_g1_T1912 = tst_g1_T1912.dropna()\n",
    "tst_g1_T1995 = tst_g1_T1995.dropna()\n",
    "tst_g1_T6020 = tst_g1_T6020.dropna()\n",
    "tst_g1_T7394 = tst_g1_T7394.dropna()"
   ]
  },
  {
   "cell_type": "code",
   "execution_count": 10,
   "metadata": {},
   "outputs": [],
   "source": [
    "\"\"\"\n",
    "    Merging tables to get master table for group 1\n",
    "\"\"\"\n",
    "g1_master_table = pd.concat([tst_g1_T0374, tst_g1_T0374L, tst_g1_T1912, tst_g1_T1995, tst_g1_T6020, tst_g1_T7394], ignore_index=True)\n",
    "\n",
    "# g1_master_table\n"
   ]
  },
  {
   "cell_type": "markdown",
   "metadata": {},
   "source": [
    "# Group 2 Data Prep"
   ]
  },
  {
   "cell_type": "markdown",
   "metadata": {},
   "source": [
    "## Getting General Group 2 data"
   ]
  },
  {
   "cell_type": "code",
   "execution_count": 13,
   "metadata": {},
   "outputs": [],
   "source": [
    "\"\"\"\n",
    "Since this is general it is only reading the \"summarized\" file\n",
    "\"\"\"\n",
    "\n",
    "tst_g2_T0860 = pd.read_csv('data/test/G2_T0860_summary.csv')\n",
    "tst_g2_T1448 = pd.read_csv('data/test/G2_T1448_summary.csv')\n",
    "tst_g2_T1656 = pd.read_csv('data/test/G2_T1656_summary.csv')\n",
    "tst_g2_T2508 = pd.read_csv('data/test/G2_T2508_summary.csv')\n",
    "tst_g2_T2509 = pd.read_csv('data/test/G2_T2509_summary.csv')\n",
    "tst_g2_T3380 = pd.read_csv('data/test/G2_T3380_summary.csv')"
   ]
  },
  {
   "cell_type": "code",
   "execution_count": 14,
   "metadata": {},
   "outputs": [],
   "source": [
    "\"\"\"\n",
    "    Detecting and getting rid of \"NaN\" values\n",
    "\"\"\"\n",
    "\n",
    "tst_g2_T0860 = tst_g2_T0860.dropna()\n",
    "tst_g2_T1448 = tst_g2_T1448.dropna()\n",
    "tst_g2_T1656 = tst_g2_T1656.dropna()\n",
    "tst_g2_T2508 = tst_g2_T2508.dropna()\n",
    "tst_g2_T2509 = tst_g2_T2509.dropna()\n",
    "tst_g2_T3380 = tst_g2_T3380.dropna()"
   ]
  },
  {
   "cell_type": "code",
   "execution_count": 15,
   "metadata": {},
   "outputs": [],
   "source": [
    "\"\"\"\n",
    "    Merging tables to get master table for group 2\n",
    "\"\"\"\n",
    "g2_master_table = pd.concat([tst_g2_T0860, tst_g2_T1448, tst_g2_T1656, tst_g2_T2508, tst_g2_T2509, tst_g2_T3380], ignore_index=True)"
   ]
  },
  {
   "cell_type": "code",
   "execution_count": null,
   "metadata": {},
   "outputs": [],
   "source": []
  },
  {
   "cell_type": "markdown",
   "metadata": {},
   "source": [
    "# Group 3 Data Prep"
   ]
  },
  {
   "cell_type": "markdown",
   "metadata": {},
   "source": [
    "## Getting General Group 3 data"
   ]
  },
  {
   "cell_type": "code",
   "execution_count": 16,
   "metadata": {},
   "outputs": [],
   "source": [
    "\"\"\"\n",
    "Since this is general it is only reading the \"summarized\" file\n",
    "\"\"\"\n",
    "\n",
    "tst_g3_T0801 = pd.read_csv('data/test/G3_T0801_summary.csv')\n",
    "tst_g3_T1829 = pd.read_csv('data/test/G3_T1829_summary.csv')\n",
    "tst_g3_T2485 = pd.read_csv('data/test/G3_T2485_summary.csv')\n",
    "tst_g3_T2677 = pd.read_csv('data/test/G3_T2677_summary.csv')\n",
    "tst_g3_T6156 = pd.read_csv('data/test/G3_T6156_summary.csv')\n",
    "tst_g3_T7503 = pd.read_csv('data/test/G3_T7503_summary.csv')"
   ]
  },
  {
   "cell_type": "code",
   "execution_count": 17,
   "metadata": {},
   "outputs": [],
   "source": [
    "\"\"\"\n",
    "    Detecting and getting rid of \"NaN\" values\n",
    "\"\"\"\n",
    "\n",
    "tst_g3_T0801 = tst_g3_T0801.dropna()\n",
    "tst_g3_T1829 = tst_g3_T1829.dropna()\n",
    "tst_g3_T2485 = tst_g3_T2485.dropna()\n",
    "tst_g3_T2677 = tst_g3_T2677.dropna()\n",
    "tst_g3_T6156 = tst_g3_T6156.dropna()\n",
    "tst_g3_T7503 = tst_g3_T7503.dropna()"
   ]
  },
  {
   "cell_type": "code",
   "execution_count": 18,
   "metadata": {},
   "outputs": [],
   "source": [
    "\"\"\"\n",
    "    Merging tables to get master table for group 3\n",
    "\"\"\"\n",
    "\n",
    "g3_master_table = pd.concat([tst_g3_T0801, tst_g3_T1829, tst_g3_T2485, tst_g3_T2677, tst_g3_T6156, tst_g3_T7503], ignore_index=True)"
   ]
  },
  {
   "cell_type": "markdown",
   "metadata": {},
   "source": [
    "# Group 4 Data Prep"
   ]
  },
  {
   "cell_type": "markdown",
   "metadata": {},
   "source": [
    "## Getting General Group 4 data"
   ]
  },
  {
   "cell_type": "code",
   "execution_count": 19,
   "metadata": {},
   "outputs": [],
   "source": [
    "\"\"\"\n",
    "Since this is general it is only reading the \"summarized\" file\n",
    "\"\"\"\n",
    "\n",
    "tst_g4_T2S0007 = pd.read_csv('data/test/G4_T2S0007_summary.csv')\n",
    "tst_g4_T1929 = pd.read_csv('data/test/G4_T1929_summary.csv')\n",
    "tst_g4_T1936 = pd.read_csv('data/test/G4_T1936_summary.csv')\n",
    "tst_g4_T3211 = pd.read_csv('data/test/G4_T3211_summary.csv')\n",
    "tst_g4_T3269 = pd.read_csv('data/test/G4_T3269_summary.csv')\n",
    "tst_g4_T3603 = pd.read_csv('data/test/G4_T3603_summary.csv')\n",
    "tst_g4_T3616 = pd.read_csv('data/test/G4_T3616_summary.csv')\n",
    "tst_g4_T4883 = pd.read_csv('data/test/G4_T4883_summary.csv')\n",
    "tst_g4_T5171 = pd.read_csv('data/test/G4_T5171_summary.csv')\n",
    "tst_g4_T5177 = pd.read_csv('data/test/G4_T5177_summary.csv')\n",
    "tst_g4_T6321 = pd.read_csv('data/test/G4_T6321_summary.csv')\n",
    "tst_g4_T7486 = pd.read_csv('data/test/G4_T7486_summary.csv')\n",
    "tst_g4_T7861 = pd.read_csv('data/test/G4_T7861_summary.csv')\n",
    "tst_g4_T8482 = pd.read_csv('data/test/G4_T8482_summary.csv')"
   ]
  },
  {
   "cell_type": "code",
   "execution_count": 20,
   "metadata": {},
   "outputs": [],
   "source": [
    "\"\"\"\n",
    "    Detecting and getting rid of \"NaN\" values\n",
    "\"\"\"\n",
    "\n",
    "tst_g4_T2S0007 = tst_g4_T2S0007.dropna()\n",
    "tst_g4_T1929 = tst_g4_T1929.dropna()\n",
    "tst_g4_T1936 = tst_g4_T1936.dropna()\n",
    "tst_g4_T3211 = tst_g4_T3211.dropna()\n",
    "tst_g4_T3269 = tst_g4_T3269.dropna()\n",
    "tst_g4_T3603 = tst_g4_T3603.dropna()\n",
    "tst_g4_T3616 = tst_g4_T3616.dropna()\n",
    "tst_g4_T4883 = tst_g4_T4883.dropna()\n",
    "tst_g4_T5171 = tst_g4_T5171.dropna()\n",
    "tst_g4_T5177 = tst_g4_T5177.dropna()\n",
    "tst_g4_T6321 = tst_g4_T6321.dropna()\n",
    "tst_g4_T7486 = tst_g4_T7486.dropna()\n",
    "tst_g4_T7861 = tst_g4_T7861.dropna()\n",
    "tst_g4_T8482 = tst_g4_T8482.dropna()"
   ]
  },
  {
   "cell_type": "code",
   "execution_count": 21,
   "metadata": {},
   "outputs": [],
   "source": [
    "\"\"\"\n",
    "    Merging tables to get master table for group 4\n",
    "\"\"\"\n",
    "\n",
    "g4_master_table = pd.concat([tst_g4_T2S0007, tst_g4_T1929, tst_g4_T1936, tst_g4_T3211, tst_g4_T3269, tst_g4_T3603, tst_g4_T3616, tst_g4_T4883, tst_g4_T5171, tst_g4_T5177, tst_g4_T6321, tst_g4_T7486, tst_g4_T7861, tst_g4_T8482], ignore_index=True)"
   ]
  },
  {
   "cell_type": "markdown",
   "metadata": {},
   "source": [
    "# Group 5 Data Prep"
   ]
  },
  {
   "cell_type": "markdown",
   "metadata": {},
   "source": [
    "## Getting General Group 5 data"
   ]
  },
  {
   "cell_type": "code",
   "execution_count": 22,
   "metadata": {},
   "outputs": [],
   "source": [
    "\"\"\"\n",
    "Since this is general it is only reading the \"summarized\" file\n",
    "\"\"\"\n",
    "\n",
    "tst_g5_T1791 = pd.read_csv('data/test/G5_T1791_summary.csv')\n",
    "tst_g5_T1791L = pd.read_csv('data/test/G5_T1791L_summary.csv')\n",
    "tst_g5_T2372 = pd.read_csv('data/test/G5_T2372_summary.csv')\n",
    "tst_g5_T6165 = pd.read_csv('data/test/G5_T6165_summary.csv')\n",
    "tst_g5_T6588 = pd.read_csv('data/test/G5_T6588_summary.csv')\n",
    "tst_g5_T6758 = pd.read_csv('data/test/G5_T6758_summary.csv')\n",
    "tst_g5_T7604 = pd.read_csv('data/test/G5_T7604_summary.csv')\n",
    "tst_g5_T8387 = pd.read_csv('data/test/G5_T8387_summary.csv')\n",
    "tst_g5_T12594 = pd.read_csv('data/test/G5_T12594_summary.csv')"
   ]
  },
  {
   "cell_type": "code",
   "execution_count": 23,
   "metadata": {},
   "outputs": [],
   "source": [
    "\"\"\"\n",
    "    Detecting and getting rid of \"NaN\" values\n",
    "\"\"\"\n",
    "\n",
    "tst_g5_T1791 = tst_g5_T1791.dropna()\n",
    "tst_g5_T1791L = tst_g5_T1791L.dropna()\n",
    "tst_g5_T2372 = tst_g5_T2372.dropna()\n",
    "tst_g5_T6165 = tst_g5_T6165.dropna()\n",
    "tst_g5_T6588 = tst_g5_T6588.dropna()\n",
    "tst_g5_T6758 = tst_g5_T6758.dropna()\n",
    "tst_g5_T7604 = tst_g5_T7604.dropna()\n",
    "tst_g5_T8387 = tst_g5_T8387.dropna()\n",
    "tst_g5_T12594 = tst_g5_T12594.dropna()"
   ]
  },
  {
   "cell_type": "code",
   "execution_count": 24,
   "metadata": {},
   "outputs": [],
   "source": [
    "\"\"\"\n",
    "    Merging tables to get master table for group 5\n",
    "\"\"\"\n",
    "\n",
    "g5_master_table = pd.concat([tst_g5_T1791, tst_g5_T1791L, tst_g5_T2372, tst_g5_T6165, tst_g5_T6588, tst_g5_T6758, tst_g5_T7604, tst_g5_T8387, tst_g5_T12594], ignore_index=True)"
   ]
  }
 ],
 "metadata": {
  "kernelspec": {
   "display_name": ".venv",
   "language": "python",
   "name": "python3"
  },
  "language_info": {
   "codemirror_mode": {
    "name": "ipython",
    "version": 3
   },
   "file_extension": ".py",
   "mimetype": "text/x-python",
   "name": "python",
   "nbconvert_exporter": "python",
   "pygments_lexer": "ipython3",
   "version": "3.13.7"
  }
 },
 "nbformat": 4,
 "nbformat_minor": 2
}
